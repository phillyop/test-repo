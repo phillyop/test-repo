{
 "cells": [
  {
   "cell_type": "markdown",
   "id": "b7de6a74",
   "metadata": {},
   "source": [
    "## Basic Operations In Python"
   ]
  },
  {
   "cell_type": "markdown",
   "id": "28135daf",
   "metadata": {},
   "source": [
    "### Arithmetic\n",
    "* additions\n",
    "* subtractioin\n",
    "* multiplication\n",
    "* division\n",
    "* Exponents\n",
    "* Mudolus\n",
    "* floor division"
   ]
  },
  {
   "cell_type": "code",
   "execution_count": 279,
   "id": "26dfb1ce",
   "metadata": {},
   "outputs": [
    {
     "data": {
      "text/plain": [
       "29.62214787"
      ]
     },
     "execution_count": 279,
     "metadata": {},
     "output_type": "execute_result"
    }
   ],
   "source": [
    "area_of_circle()"
   ]
  },
  {
   "cell_type": "markdown",
   "id": "8430ac31",
   "metadata": {},
   "source": [
    "### Addition"
   ]
  },
  {
   "cell_type": "code",
   "execution_count": 25,
   "id": "04d61d1c",
   "metadata": {},
   "outputs": [
    {
     "data": {
      "text/plain": [
       "43"
      ]
     },
     "execution_count": 25,
     "metadata": {},
     "output_type": "execute_result"
    }
   ],
   "source": [
    "23 + 20"
   ]
  },
  {
   "cell_type": "code",
   "execution_count": 26,
   "id": "92d53296",
   "metadata": {},
   "outputs": [
    {
     "data": {
      "text/plain": [
       "4677"
      ]
     },
     "execution_count": 26,
     "metadata": {},
     "output_type": "execute_result"
    }
   ],
   "source": [
    "4555 + 122"
   ]
  },
  {
   "cell_type": "markdown",
   "id": "96c9c1b5",
   "metadata": {},
   "source": [
    "### Substraction"
   ]
  },
  {
   "cell_type": "code",
   "execution_count": 27,
   "id": "04a6b501",
   "metadata": {},
   "outputs": [
    {
     "data": {
      "text/plain": [
       "21"
      ]
     },
     "execution_count": 27,
     "metadata": {},
     "output_type": "execute_result"
    }
   ],
   "source": [
    "40 - 19"
   ]
  },
  {
   "cell_type": "code",
   "execution_count": 28,
   "id": "b0b38f98",
   "metadata": {},
   "outputs": [
    {
     "data": {
      "text/plain": [
       "-87"
      ]
     },
     "execution_count": 28,
     "metadata": {},
     "output_type": "execute_result"
    }
   ],
   "source": [
    "2-89"
   ]
  },
  {
   "cell_type": "markdown",
   "id": "62877464",
   "metadata": {},
   "source": [
    "### Multiples"
   ]
  },
  {
   "cell_type": "code",
   "execution_count": 29,
   "id": "eb497131",
   "metadata": {},
   "outputs": [
    {
     "data": {
      "text/plain": [
       "12"
      ]
     },
     "execution_count": 29,
     "metadata": {},
     "output_type": "execute_result"
    }
   ],
   "source": [
    "3 * 4"
   ]
  },
  {
   "cell_type": "code",
   "execution_count": 30,
   "id": "92dc777c",
   "metadata": {},
   "outputs": [
    {
     "data": {
      "text/plain": [
       "56"
      ]
     },
     "execution_count": 30,
     "metadata": {},
     "output_type": "execute_result"
    }
   ],
   "source": [
    "8*7"
   ]
  },
  {
   "cell_type": "markdown",
   "id": "911d4dcb",
   "metadata": {},
   "source": [
    "### Division"
   ]
  },
  {
   "cell_type": "code",
   "execution_count": 31,
   "id": "18100246",
   "metadata": {},
   "outputs": [
    {
     "data": {
      "text/plain": [
       "4.0"
      ]
     },
     "execution_count": 31,
     "metadata": {},
     "output_type": "execute_result"
    }
   ],
   "source": [
    "20/5"
   ]
  },
  {
   "cell_type": "code",
   "execution_count": 32,
   "id": "bb7970ce",
   "metadata": {},
   "outputs": [
    {
     "data": {
      "text/plain": [
       "1.5"
      ]
     },
     "execution_count": 32,
     "metadata": {},
     "output_type": "execute_result"
    }
   ],
   "source": [
    "12/8"
   ]
  },
  {
   "cell_type": "markdown",
   "id": "8abfd1ea",
   "metadata": {},
   "source": [
    "* aa\n",
    "* bb\n",
    "* cc"
   ]
  },
  {
   "cell_type": "markdown",
   "id": "7e7a04c1",
   "metadata": {},
   "source": [
    "1. ww\n",
    "2. www\n",
    "3. kkk"
   ]
  },
  {
   "cell_type": "markdown",
   "id": "4c1b2d45",
   "metadata": {},
   "source": [
    "**theo**"
   ]
  },
  {
   "cell_type": "markdown",
   "id": "df2fe365",
   "metadata": {},
   "source": [
    "### Exponents"
   ]
  },
  {
   "cell_type": "code",
   "execution_count": 33,
   "id": "7859f004",
   "metadata": {},
   "outputs": [
    {
     "data": {
      "text/plain": [
       "8"
      ]
     },
     "execution_count": 33,
     "metadata": {},
     "output_type": "execute_result"
    }
   ],
   "source": [
    "2**3"
   ]
  },
  {
   "cell_type": "code",
   "execution_count": 34,
   "id": "8fa1cc5d",
   "metadata": {},
   "outputs": [
    {
     "data": {
      "text/plain": [
       "256"
      ]
     },
     "execution_count": 34,
     "metadata": {},
     "output_type": "execute_result"
    }
   ],
   "source": [
    "4**4"
   ]
  },
  {
   "cell_type": "code",
   "execution_count": 35,
   "id": "66562849",
   "metadata": {},
   "outputs": [
    {
     "data": {
      "text/plain": [
       "81"
      ]
     },
     "execution_count": 35,
     "metadata": {},
     "output_type": "execute_result"
    }
   ],
   "source": [
    "3**4"
   ]
  },
  {
   "cell_type": "markdown",
   "id": "431d04e1",
   "metadata": {},
   "source": [
    "### Mudolus"
   ]
  },
  {
   "cell_type": "code",
   "execution_count": 36,
   "id": "76b31ad8",
   "metadata": {},
   "outputs": [
    {
     "data": {
      "text/plain": [
       "1"
      ]
     },
     "execution_count": 36,
     "metadata": {},
     "output_type": "execute_result"
    }
   ],
   "source": [
    "5%2"
   ]
  },
  {
   "cell_type": "code",
   "execution_count": 37,
   "id": "84ec7a31",
   "metadata": {},
   "outputs": [
    {
     "data": {
      "text/plain": [
       "0"
      ]
     },
     "execution_count": 37,
     "metadata": {},
     "output_type": "execute_result"
    }
   ],
   "source": [
    "4%2"
   ]
  },
  {
   "cell_type": "code",
   "execution_count": 38,
   "id": "7b4742c2",
   "metadata": {},
   "outputs": [
    {
     "data": {
      "text/plain": [
       "0"
      ]
     },
     "execution_count": 38,
     "metadata": {},
     "output_type": "execute_result"
    }
   ],
   "source": [
    "20%2"
   ]
  },
  {
   "cell_type": "code",
   "execution_count": 39,
   "id": "d8445101",
   "metadata": {},
   "outputs": [
    {
     "data": {
      "text/plain": [
       "1"
      ]
     },
     "execution_count": 39,
     "metadata": {},
     "output_type": "execute_result"
    }
   ],
   "source": [
    "21%2"
   ]
  },
  {
   "cell_type": "markdown",
   "id": "885f7c9a",
   "metadata": {},
   "source": [
    "## floor Division"
   ]
  },
  {
   "cell_type": "code",
   "execution_count": 40,
   "id": "7d447bf2",
   "metadata": {},
   "outputs": [
    {
     "data": {
      "text/plain": [
       "2.5"
      ]
     },
     "execution_count": 40,
     "metadata": {},
     "output_type": "execute_result"
    }
   ],
   "source": [
    "5/2"
   ]
  },
  {
   "cell_type": "code",
   "execution_count": 41,
   "id": "fcc846cb",
   "metadata": {},
   "outputs": [
    {
     "data": {
      "text/plain": [
       "2"
      ]
     },
     "execution_count": 41,
     "metadata": {},
     "output_type": "execute_result"
    }
   ],
   "source": [
    "5//2"
   ]
  },
  {
   "cell_type": "code",
   "execution_count": 42,
   "id": "9cf7ee76",
   "metadata": {},
   "outputs": [
    {
     "data": {
      "text/plain": [
       "5"
      ]
     },
     "execution_count": 42,
     "metadata": {},
     "output_type": "execute_result"
    }
   ],
   "source": [
    "23//4"
   ]
  },
  {
   "cell_type": "markdown",
   "id": "122df4fd",
   "metadata": {},
   "source": [
    "## PEMDAS"
   ]
  },
  {
   "cell_type": "code",
   "execution_count": 43,
   "id": "2ffe8d6f",
   "metadata": {},
   "outputs": [
    {
     "data": {
      "text/plain": [
       "9.666666666666666"
      ]
     },
     "execution_count": 43,
     "metadata": {},
     "output_type": "execute_result"
    }
   ],
   "source": [
    "2*4+5/3"
   ]
  },
  {
   "cell_type": "code",
   "execution_count": 44,
   "id": "0babe918",
   "metadata": {},
   "outputs": [
    {
     "data": {
      "text/plain": [
       "9.666666666666666"
      ]
     },
     "execution_count": 44,
     "metadata": {},
     "output_type": "execute_result"
    }
   ],
   "source": [
    "8+5/3"
   ]
  },
  {
   "cell_type": "code",
   "execution_count": 45,
   "id": "25ac250a",
   "metadata": {},
   "outputs": [
    {
     "data": {
      "text/plain": [
       "1.6666666666666667"
      ]
     },
     "execution_count": 45,
     "metadata": {},
     "output_type": "execute_result"
    }
   ],
   "source": [
    "5/3"
   ]
  },
  {
   "cell_type": "code",
   "execution_count": 46,
   "id": "70b9ea82",
   "metadata": {},
   "outputs": [
    {
     "data": {
      "text/plain": [
       "9.66"
      ]
     },
     "execution_count": 46,
     "metadata": {},
     "output_type": "execute_result"
    }
   ],
   "source": [
    "8+1.66"
   ]
  },
  {
   "cell_type": "code",
   "execution_count": 47,
   "id": "a8eec347",
   "metadata": {},
   "outputs": [
    {
     "data": {
      "text/plain": [
       "6.0"
      ]
     },
     "execution_count": 47,
     "metadata": {},
     "output_type": "execute_result"
    }
   ],
   "source": [
    "2*(4+5)/3"
   ]
  },
  {
   "cell_type": "code",
   "execution_count": 48,
   "id": "dd370b08",
   "metadata": {},
   "outputs": [
    {
     "data": {
      "text/plain": [
       "6.0"
      ]
     },
     "execution_count": 48,
     "metadata": {},
     "output_type": "execute_result"
    }
   ],
   "source": [
    "2*9/3"
   ]
  },
  {
   "cell_type": "code",
   "execution_count": 50,
   "id": "cbd78475",
   "metadata": {},
   "outputs": [
    {
     "data": {
      "text/plain": [
       "6"
      ]
     },
     "execution_count": 50,
     "metadata": {},
     "output_type": "execute_result"
    }
   ],
   "source": [
    "6"
   ]
  },
  {
   "cell_type": "code",
   "execution_count": 49,
   "id": "e5ce5202",
   "metadata": {},
   "outputs": [
    {
     "data": {
      "text/plain": [
       "6.0"
      ]
     },
     "execution_count": 49,
     "metadata": {},
     "output_type": "execute_result"
    }
   ],
   "source": [
    "18/3"
   ]
  },
  {
   "cell_type": "markdown",
   "id": "31e15eb7",
   "metadata": {},
   "source": [
    "### Conditionals"
   ]
  },
  {
   "cell_type": "markdown",
   "id": "7a74bda6",
   "metadata": {},
   "source": [
    "* equal to\n",
    "* greater than\n",
    "* less than"
   ]
  },
  {
   "cell_type": "code",
   "execution_count": 51,
   "id": "27a8248c",
   "metadata": {},
   "outputs": [
    {
     "data": {
      "text/plain": [
       "True"
      ]
     },
     "execution_count": 51,
     "metadata": {},
     "output_type": "execute_result"
    }
   ],
   "source": [
    "2 ==2"
   ]
  },
  {
   "cell_type": "code",
   "execution_count": 52,
   "id": "90c8429f",
   "metadata": {},
   "outputs": [
    {
     "data": {
      "text/plain": [
       "False"
      ]
     },
     "execution_count": 52,
     "metadata": {},
     "output_type": "execute_result"
    }
   ],
   "source": [
    "2 == 4"
   ]
  },
  {
   "cell_type": "code",
   "execution_count": 53,
   "id": "6a35c0e8",
   "metadata": {},
   "outputs": [
    {
     "data": {
      "text/plain": [
       "True"
      ]
     },
     "execution_count": 53,
     "metadata": {},
     "output_type": "execute_result"
    }
   ],
   "source": [
    "56 > 23"
   ]
  },
  {
   "cell_type": "code",
   "execution_count": 54,
   "id": "fc2b2806",
   "metadata": {},
   "outputs": [
    {
     "data": {
      "text/plain": [
       "False"
      ]
     },
     "execution_count": 54,
     "metadata": {},
     "output_type": "execute_result"
    }
   ],
   "source": [
    "24 >45"
   ]
  },
  {
   "cell_type": "code",
   "execution_count": 55,
   "id": "2cf4157a",
   "metadata": {},
   "outputs": [
    {
     "data": {
      "text/plain": [
       "True"
      ]
     },
     "execution_count": 55,
     "metadata": {},
     "output_type": "execute_result"
    }
   ],
   "source": [
    "5 < 10"
   ]
  },
  {
   "cell_type": "code",
   "execution_count": 56,
   "id": "68804f6b",
   "metadata": {},
   "outputs": [
    {
     "data": {
      "text/plain": [
       "False"
      ]
     },
     "execution_count": 56,
     "metadata": {},
     "output_type": "execute_result"
    }
   ],
   "source": [
    "45 < 2"
   ]
  },
  {
   "cell_type": "code",
   "execution_count": 57,
   "id": "086eb5fa",
   "metadata": {},
   "outputs": [
    {
     "data": {
      "text/plain": [
       "True"
      ]
     },
     "execution_count": 57,
     "metadata": {},
     "output_type": "execute_result"
    }
   ],
   "source": [
    "23 >= 12"
   ]
  },
  {
   "cell_type": "code",
   "execution_count": 58,
   "id": "2abc91c1",
   "metadata": {},
   "outputs": [
    {
     "data": {
      "text/plain": [
       "True"
      ]
     },
     "execution_count": 58,
     "metadata": {},
     "output_type": "execute_result"
    }
   ],
   "source": [
    "21>=21"
   ]
  },
  {
   "cell_type": "code",
   "execution_count": 59,
   "id": "11307f97",
   "metadata": {},
   "outputs": [
    {
     "data": {
      "text/plain": [
       "True"
      ]
     },
     "execution_count": 59,
     "metadata": {},
     "output_type": "execute_result"
    }
   ],
   "source": [
    "3<=4"
   ]
  },
  {
   "cell_type": "code",
   "execution_count": 60,
   "id": "6dd9ad6c",
   "metadata": {},
   "outputs": [
    {
     "data": {
      "text/plain": [
       "True"
      ]
     },
     "execution_count": 60,
     "metadata": {},
     "output_type": "execute_result"
    }
   ],
   "source": [
    "2 != 4"
   ]
  },
  {
   "attachments": {
    "hahaha.jpg": {
     "image/jpeg": "[encoded data removed]"
    }
   },
   "cell_type": "markdown",
   "id": "5aea9523",
   "metadata": {},
   "source": [
    "![hahaha.jpg](attachment:hahaha.jpg)"
   ]
  },
  {
   "cell_type": "markdown",
   "id": "52ae7b2a",
   "metadata": {},
   "source": [
    "## Logical operators"
   ]
  },
  {
   "cell_type": "markdown",
   "id": "db6161a6",
   "metadata": {},
   "source": [
    "* AND\n",
    "* OR"
   ]
  },
  {
   "cell_type": "code",
   "execution_count": 61,
   "id": "4c31f290",
   "metadata": {},
   "outputs": [
    {
     "data": {
      "text/plain": [
       "2"
      ]
     },
     "execution_count": 61,
     "metadata": {},
     "output_type": "execute_result"
    }
   ],
   "source": [
    "True + True"
   ]
  },
  {
   "cell_type": "code",
   "execution_count": 62,
   "id": "1c353d2a",
   "metadata": {},
   "outputs": [
    {
     "data": {
      "text/plain": [
       "0"
      ]
     },
     "execution_count": 62,
     "metadata": {},
     "output_type": "execute_result"
    }
   ],
   "source": [
    "False + False"
   ]
  },
  {
   "cell_type": "code",
   "execution_count": 63,
   "id": "e77033a7",
   "metadata": {},
   "outputs": [
    {
     "data": {
      "text/plain": [
       "1"
      ]
     },
     "execution_count": 63,
     "metadata": {},
     "output_type": "execute_result"
    }
   ],
   "source": [
    "False + True"
   ]
  },
  {
   "cell_type": "code",
   "execution_count": 64,
   "id": "64ba0459",
   "metadata": {},
   "outputs": [
    {
     "data": {
      "text/plain": [
       "True"
      ]
     },
     "execution_count": 64,
     "metadata": {},
     "output_type": "execute_result"
    }
   ],
   "source": [
    "(2>1) and (3<10)"
   ]
  },
  {
   "cell_type": "code",
   "execution_count": 65,
   "id": "40658e9e",
   "metadata": {},
   "outputs": [
    {
     "data": {
      "text/plain": [
       "False"
      ]
     },
     "execution_count": 65,
     "metadata": {},
     "output_type": "execute_result"
    }
   ],
   "source": [
    "(3>12) & (4>3)"
   ]
  },
  {
   "cell_type": "code",
   "execution_count": 66,
   "id": "c9af88db",
   "metadata": {},
   "outputs": [
    {
     "data": {
      "text/plain": [
       "True"
      ]
     },
     "execution_count": 66,
     "metadata": {},
     "output_type": "execute_result"
    }
   ],
   "source": [
    "True and True"
   ]
  },
  {
   "cell_type": "code",
   "execution_count": 67,
   "id": "6ab5c082",
   "metadata": {},
   "outputs": [
    {
     "data": {
      "text/plain": [
       "False"
      ]
     },
     "execution_count": 67,
     "metadata": {},
     "output_type": "execute_result"
    }
   ],
   "source": [
    "True and False"
   ]
  },
  {
   "cell_type": "code",
   "execution_count": 68,
   "id": "5ddd7b6b",
   "metadata": {},
   "outputs": [
    {
     "data": {
      "text/plain": [
       "False"
      ]
     },
     "execution_count": 68,
     "metadata": {},
     "output_type": "execute_result"
    }
   ],
   "source": [
    "False and True"
   ]
  },
  {
   "cell_type": "code",
   "execution_count": 69,
   "id": "0b6937df",
   "metadata": {},
   "outputs": [
    {
     "data": {
      "text/plain": [
       "False"
      ]
     },
     "execution_count": 69,
     "metadata": {},
     "output_type": "execute_result"
    }
   ],
   "source": [
    "False & False"
   ]
  },
  {
   "cell_type": "markdown",
   "id": "7320f7a6",
   "metadata": {},
   "source": [
    "## OR"
   ]
  },
  {
   "cell_type": "code",
   "execution_count": 70,
   "id": "d3c613e3",
   "metadata": {},
   "outputs": [
    {
     "data": {
      "text/plain": [
       "True"
      ]
     },
     "execution_count": 70,
     "metadata": {},
     "output_type": "execute_result"
    }
   ],
   "source": [
    "(3 > 2) or (4 <21)"
   ]
  },
  {
   "cell_type": "code",
   "execution_count": 71,
   "id": "6edebc4b",
   "metadata": {},
   "outputs": [
    {
     "data": {
      "text/plain": [
       "False"
      ]
     },
     "execution_count": 71,
     "metadata": {},
     "output_type": "execute_result"
    }
   ],
   "source": [
    "(1>4) or (34 <3)"
   ]
  },
  {
   "cell_type": "code",
   "execution_count": 72,
   "id": "dc5ee69d",
   "metadata": {},
   "outputs": [
    {
     "data": {
      "text/plain": [
       "True"
      ]
     },
     "execution_count": 72,
     "metadata": {},
     "output_type": "execute_result"
    }
   ],
   "source": [
    "(2==2) | (4 != 4)"
   ]
  },
  {
   "cell_type": "code",
   "execution_count": 73,
   "id": "ab24f9f6",
   "metadata": {},
   "outputs": [
    {
     "data": {
      "text/plain": [
       "False"
      ]
     },
     "execution_count": 73,
     "metadata": {},
     "output_type": "execute_result"
    }
   ],
   "source": [
    "False | False"
   ]
  },
  {
   "cell_type": "code",
   "execution_count": 74,
   "id": "2fe1fdf3",
   "metadata": {},
   "outputs": [
    {
     "data": {
      "text/plain": [
       "True"
      ]
     },
     "execution_count": 74,
     "metadata": {},
     "output_type": "execute_result"
    }
   ],
   "source": [
    "False | True"
   ]
  },
  {
   "cell_type": "code",
   "execution_count": 75,
   "id": "915c76ca",
   "metadata": {},
   "outputs": [
    {
     "data": {
      "text/plain": [
       "True"
      ]
     },
     "execution_count": 75,
     "metadata": {},
     "output_type": "execute_result"
    }
   ],
   "source": [
    "True | False"
   ]
  },
  {
   "cell_type": "code",
   "execution_count": 76,
   "id": "16166600",
   "metadata": {},
   "outputs": [
    {
     "data": {
      "text/plain": [
       "True"
      ]
     },
     "execution_count": 76,
     "metadata": {},
     "output_type": "execute_result"
    }
   ],
   "source": [
    "True | True"
   ]
  },
  {
   "cell_type": "code",
   "execution_count": 77,
   "id": "659fb51d",
   "metadata": {},
   "outputs": [
    {
     "name": "stdout",
     "output_type": "stream",
     "text": [
      "todays class is interesting\n"
     ]
    }
   ],
   "source": [
    "print('todays class is interesting')"
   ]
  },
  {
   "cell_type": "markdown",
   "id": "c3e45fd8",
   "metadata": {},
   "source": [
    "## Comments"
   ]
  },
  {
   "cell_type": "code",
   "execution_count": 79,
   "id": "821ef85e",
   "metadata": {},
   "outputs": [
    {
     "data": {
      "text/plain": [
       "False"
      ]
     },
     "execution_count": 79,
     "metadata": {},
     "output_type": "execute_result"
    }
   ],
   "source": [
    "# this class is interesting and i love it\n",
    "# i am comparing numbers using the equality sign\n",
    "3 ==5"
   ]
  },
  {
   "cell_type": "code",
   "execution_count": 80,
   "id": "a823b54f",
   "metadata": {},
   "outputs": [
    {
     "data": {
      "text/plain": [
       "12"
      ]
     },
     "execution_count": 80,
     "metadata": {},
     "output_type": "execute_result"
    }
   ],
   "source": [
    "3* 4 # i am multiplying 2 numbers"
   ]
  },
  {
   "cell_type": "code",
   "execution_count": 83,
   "id": "001a9e02",
   "metadata": {},
   "outputs": [
    {
     "data": {
      "text/plain": [
       "'\\nthis /n\\nyou\\nhim\\n'"
      ]
     },
     "execution_count": 83,
     "metadata": {},
     "output_type": "execute_result"
    }
   ],
   "source": [
    "'''\n",
    "this\n",
    "you\n",
    "him\n",
    "'''"
   ]
  },
  {
   "cell_type": "markdown",
   "id": "e9bdcc66",
   "metadata": {},
   "source": [
    "## Variables"
   ]
  },
  {
   "cell_type": "code",
   "execution_count": 84,
   "id": "58e64bfd",
   "metadata": {},
   "outputs": [],
   "source": [
    "ghanas_president = 'Nana Akuffu Addo'"
   ]
  },
  {
   "cell_type": "code",
   "execution_count": 85,
   "id": "a5fcde04",
   "metadata": {},
   "outputs": [
    {
     "data": {
      "text/plain": [
       "'Nana Akuffu Addo'"
      ]
     },
     "execution_count": 85,
     "metadata": {},
     "output_type": "execute_result"
    }
   ],
   "source": [
    "ghanas_president"
   ]
  },
  {
   "cell_type": "code",
   "execution_count": 86,
   "id": "201c40af",
   "metadata": {},
   "outputs": [
    {
     "name": "stdout",
     "output_type": "stream",
     "text": [
      "Nana Akuffu Addo\n"
     ]
    }
   ],
   "source": [
    "print(ghanas_president)"
   ]
  },
  {
   "cell_type": "code",
   "execution_count": 87,
   "id": "b702bd7a",
   "metadata": {},
   "outputs": [],
   "source": [
    "name = 'theophilus'\n",
    "age = 40\n",
    "location= 'kaneshie'"
   ]
  },
  {
   "cell_type": "code",
   "execution_count": 88,
   "id": "08bdaade",
   "metadata": {},
   "outputs": [
    {
     "name": "stdout",
     "output_type": "stream",
     "text": [
      "theophilus\n"
     ]
    }
   ],
   "source": [
    "print(name)"
   ]
  },
  {
   "cell_type": "code",
   "execution_count": 89,
   "id": "fa420325",
   "metadata": {},
   "outputs": [
    {
     "data": {
      "text/plain": [
       "40"
      ]
     },
     "execution_count": 89,
     "metadata": {},
     "output_type": "execute_result"
    }
   ],
   "source": [
    "age"
   ]
  },
  {
   "cell_type": "code",
   "execution_count": 90,
   "id": "1b503175",
   "metadata": {},
   "outputs": [
    {
     "data": {
      "text/plain": [
       "'kaneshie'"
      ]
     },
     "execution_count": 90,
     "metadata": {},
     "output_type": "execute_result"
    }
   ],
   "source": [
    "location"
   ]
  },
  {
   "cell_type": "code",
   "execution_count": 91,
   "id": "312b24f6",
   "metadata": {},
   "outputs": [
    {
     "name": "stdout",
     "output_type": "stream",
     "text": [
      "my name is theophilus\n"
     ]
    }
   ],
   "source": [
    "print('my name is',name)"
   ]
  },
  {
   "cell_type": "code",
   "execution_count": 92,
   "id": "22e4b36f",
   "metadata": {},
   "outputs": [],
   "source": [
    "name,age,location = 'isaac',20,'east legon'"
   ]
  },
  {
   "cell_type": "code",
   "execution_count": 93,
   "id": "e94f0b48",
   "metadata": {},
   "outputs": [
    {
     "data": {
      "text/plain": [
       "'isaac'"
      ]
     },
     "execution_count": 93,
     "metadata": {},
     "output_type": "execute_result"
    }
   ],
   "source": [
    "name"
   ]
  },
  {
   "cell_type": "code",
   "execution_count": 94,
   "id": "7a70dff2",
   "metadata": {},
   "outputs": [
    {
     "data": {
      "text/plain": [
       "20"
      ]
     },
     "execution_count": 94,
     "metadata": {},
     "output_type": "execute_result"
    }
   ],
   "source": [
    "age"
   ]
  },
  {
   "cell_type": "code",
   "execution_count": 95,
   "id": "f9133aae",
   "metadata": {},
   "outputs": [
    {
     "data": {
      "text/plain": [
       "'east legon'"
      ]
     },
     "execution_count": 95,
     "metadata": {},
     "output_type": "execute_result"
    }
   ],
   "source": [
    "location"
   ]
  },
  {
   "cell_type": "code",
   "execution_count": 96,
   "id": "16bf5ca7",
   "metadata": {},
   "outputs": [],
   "source": [
    "t_age =i_age =l_age =20"
   ]
  },
  {
   "cell_type": "code",
   "execution_count": 97,
   "id": "8841377a",
   "metadata": {},
   "outputs": [
    {
     "data": {
      "text/plain": [
       "20"
      ]
     },
     "execution_count": 97,
     "metadata": {},
     "output_type": "execute_result"
    }
   ],
   "source": [
    "t_age"
   ]
  },
  {
   "cell_type": "code",
   "execution_count": 98,
   "id": "ecffa359",
   "metadata": {},
   "outputs": [
    {
     "data": {
      "text/plain": [
       "20"
      ]
     },
     "execution_count": 98,
     "metadata": {},
     "output_type": "execute_result"
    }
   ],
   "source": [
    "i_age"
   ]
  },
  {
   "cell_type": "code",
   "execution_count": 99,
   "id": "6d375826",
   "metadata": {},
   "outputs": [],
   "source": [
    "i_age = 30"
   ]
  },
  {
   "cell_type": "code",
   "execution_count": 100,
   "id": "89330527",
   "metadata": {},
   "outputs": [
    {
     "data": {
      "text/plain": [
       "30"
      ]
     },
     "execution_count": 100,
     "metadata": {},
     "output_type": "execute_result"
    }
   ],
   "source": [
    "i_age"
   ]
  },
  {
   "cell_type": "markdown",
   "id": "3b48300a",
   "metadata": {},
   "source": [
    "a-z,A-Z,0-9\n",
    "a variable name must start with a letter or an underscore\n"
   ]
  },
  {
   "cell_type": "code",
   "execution_count": 101,
   "id": "9d6b1834",
   "metadata": {},
   "outputs": [],
   "source": [
    "name = 'tttt'"
   ]
  },
  {
   "cell_type": "code",
   "execution_count": 102,
   "id": "1cc43a6d",
   "metadata": {},
   "outputs": [],
   "source": [
    "Name = 'yaw'"
   ]
  },
  {
   "cell_type": "code",
   "execution_count": 103,
   "id": "9cecfdfd",
   "metadata": {},
   "outputs": [],
   "source": [
    "NAME = 'kwabee'"
   ]
  },
  {
   "cell_type": "code",
   "execution_count": 104,
   "id": "4707ffc9",
   "metadata": {},
   "outputs": [
    {
     "data": {
      "text/plain": [
       "'tttt'"
      ]
     },
     "execution_count": 104,
     "metadata": {},
     "output_type": "execute_result"
    }
   ],
   "source": [
    "name"
   ]
  },
  {
   "cell_type": "code",
   "execution_count": 105,
   "id": "2746324c",
   "metadata": {},
   "outputs": [
    {
     "data": {
      "text/plain": [
       "'yaw'"
      ]
     },
     "execution_count": 105,
     "metadata": {},
     "output_type": "execute_result"
    }
   ],
   "source": [
    "Name"
   ]
  },
  {
   "cell_type": "code",
   "execution_count": 106,
   "id": "520a9351",
   "metadata": {},
   "outputs": [
    {
     "data": {
      "text/plain": [
       "'kwabee'"
      ]
     },
     "execution_count": 106,
     "metadata": {},
     "output_type": "execute_result"
    }
   ],
   "source": [
    "NAME"
   ]
  },
  {
   "cell_type": "code",
   "execution_count": 107,
   "id": "8f63faa4",
   "metadata": {},
   "outputs": [
    {
     "ename": "SyntaxError",
     "evalue": "invalid syntax (135674124.py, line 1)",
     "output_type": "error",
     "traceback": [
      "\u001b[1;36m  File \u001b[1;32m\"C:\\Users\\MTL9\\AppData\\Local\\Temp\\ipykernel_21208\\135674124.py\"\u001b[1;36m, line \u001b[1;32m1\u001b[0m\n\u001b[1;33m    2name = 'isaac'\u001b[0m\n\u001b[1;37m     ^\u001b[0m\n\u001b[1;31mSyntaxError\u001b[0m\u001b[1;31m:\u001b[0m invalid syntax\n"
     ]
    }
   ],
   "source": [
    "2name = 'isaac'"
   ]
  },
  {
   "cell_type": "code",
   "execution_count": 108,
   "id": "e4f0e8b9",
   "metadata": {},
   "outputs": [],
   "source": [
    "name2 = 'hamza'"
   ]
  },
  {
   "cell_type": "code",
   "execution_count": 109,
   "id": "622185da",
   "metadata": {},
   "outputs": [
    {
     "ename": "SyntaxError",
     "evalue": "invalid syntax (435485106.py, line 1)",
     "output_type": "error",
     "traceback": [
      "\u001b[1;36m  File \u001b[1;32m\"C:\\Users\\MTL9\\AppData\\Local\\Temp\\ipykernel_21208\\435485106.py\"\u001b[1;36m, line \u001b[1;32m1\u001b[0m\n\u001b[1;33m    schoo$l = 'knust'\u001b[0m\n\u001b[1;37m         ^\u001b[0m\n\u001b[1;31mSyntaxError\u001b[0m\u001b[1;31m:\u001b[0m invalid syntax\n"
     ]
    }
   ],
   "source": [
    "schoo$l = 'knust'"
   ]
  },
  {
   "cell_type": "code",
   "execution_count": 110,
   "id": "9aa9b1b9",
   "metadata": {},
   "outputs": [
    {
     "ename": "SyntaxError",
     "evalue": "invalid syntax (2720137688.py, line 1)",
     "output_type": "error",
     "traceback": [
      "\u001b[1;36m  File \u001b[1;32m\"C:\\Users\\MTL9\\AppData\\Local\\Temp\\ipykernel_21208\\2720137688.py\"\u001b[1;36m, line \u001b[1;32m1\u001b[0m\n\u001b[1;33m    tech% = 33\u001b[0m\n\u001b[1;37m          ^\u001b[0m\n\u001b[1;31mSyntaxError\u001b[0m\u001b[1;31m:\u001b[0m invalid syntax\n"
     ]
    }
   ],
   "source": [
    "tech% = 33"
   ]
  },
  {
   "cell_type": "code",
   "execution_count": 303,
   "id": "0130d7d6",
   "metadata": {},
   "outputs": [
    {
     "name": "stdout",
     "output_type": "stream",
     "text": [
      "nahama\n"
     ]
    }
   ],
   "source": [
    "name1 = \"Nana Addo\"\n",
    "name2 = \"Mahama\"\n",
    "\n",
    "result = name1[:2].lower() + name2[2:]\n",
    "print(result)"
   ]
  },
  {
   "cell_type": "markdown",
   "id": "c20c50bc",
   "metadata": {},
   "source": [
    "## Data Types"
   ]
  },
  {
   "cell_type": "markdown",
   "id": "6797f69f",
   "metadata": {},
   "source": [
    "* int\n",
    "* float\n",
    "* boolean\n",
    "* string\n",
    "* list\n",
    "* tuple\n",
    "* dictionary"
   ]
  },
  {
   "cell_type": "markdown",
   "id": "3d0d93e9",
   "metadata": {},
   "source": [
    "## Int"
   ]
  },
  {
   "cell_type": "code",
   "execution_count": 112,
   "id": "a071df02",
   "metadata": {},
   "outputs": [
    {
     "data": {
      "text/plain": [
       "1"
      ]
     },
     "execution_count": 112,
     "metadata": {},
     "output_type": "execute_result"
    }
   ],
   "source": [
    "1"
   ]
  },
  {
   "cell_type": "code",
   "execution_count": 113,
   "id": "68fcb574",
   "metadata": {},
   "outputs": [
    {
     "data": {
      "text/plain": [
       "35"
      ]
     },
     "execution_count": 113,
     "metadata": {},
     "output_type": "execute_result"
    }
   ],
   "source": [
    "35"
   ]
  },
  {
   "cell_type": "code",
   "execution_count": 114,
   "id": "874d464d",
   "metadata": {},
   "outputs": [
    {
     "data": {
      "text/plain": [
       "int"
      ]
     },
     "execution_count": 114,
     "metadata": {},
     "output_type": "execute_result"
    }
   ],
   "source": [
    "type(1)"
   ]
  },
  {
   "cell_type": "markdown",
   "id": "a60183d7",
   "metadata": {},
   "source": [
    "## Float"
   ]
  },
  {
   "cell_type": "code",
   "execution_count": 115,
   "id": "0d5b74fd",
   "metadata": {},
   "outputs": [
    {
     "data": {
      "text/plain": [
       "0.6666666666666666"
      ]
     },
     "execution_count": 115,
     "metadata": {},
     "output_type": "execute_result"
    }
   ],
   "source": [
    "2/3"
   ]
  },
  {
   "cell_type": "code",
   "execution_count": 116,
   "id": "54bcbb24",
   "metadata": {},
   "outputs": [
    {
     "data": {
      "text/plain": [
       "3.22"
      ]
     },
     "execution_count": 116,
     "metadata": {},
     "output_type": "execute_result"
    }
   ],
   "source": [
    "3.22"
   ]
  },
  {
   "cell_type": "code",
   "execution_count": 117,
   "id": "024ce4d3",
   "metadata": {},
   "outputs": [
    {
     "data": {
      "text/plain": [
       "float"
      ]
     },
     "execution_count": 117,
     "metadata": {},
     "output_type": "execute_result"
    }
   ],
   "source": [
    "type(1.7777)"
   ]
  },
  {
   "cell_type": "code",
   "execution_count": 118,
   "id": "70df0552",
   "metadata": {},
   "outputs": [
    {
     "data": {
      "text/plain": [
       "bool"
      ]
     },
     "execution_count": 118,
     "metadata": {},
     "output_type": "execute_result"
    }
   ],
   "source": [
    "type(True)"
   ]
  },
  {
   "cell_type": "code",
   "execution_count": 119,
   "id": "44409063",
   "metadata": {},
   "outputs": [
    {
     "data": {
      "text/plain": [
       "1.0"
      ]
     },
     "execution_count": 119,
     "metadata": {},
     "output_type": "execute_result"
    }
   ],
   "source": [
    "float(1)"
   ]
  },
  {
   "cell_type": "code",
   "execution_count": 120,
   "id": "31aa7239",
   "metadata": {},
   "outputs": [
    {
     "data": {
      "text/plain": [
       "True"
      ]
     },
     "execution_count": 120,
     "metadata": {},
     "output_type": "execute_result"
    }
   ],
   "source": [
    "bool(3)"
   ]
  },
  {
   "cell_type": "code",
   "execution_count": 121,
   "id": "7a0c865d",
   "metadata": {},
   "outputs": [
    {
     "data": {
      "text/plain": [
       "False"
      ]
     },
     "execution_count": 121,
     "metadata": {},
     "output_type": "execute_result"
    }
   ],
   "source": [
    "bool(0)"
   ]
  },
  {
   "cell_type": "markdown",
   "id": "420a8b59",
   "metadata": {},
   "source": [
    "## Strings"
   ]
  },
  {
   "cell_type": "code",
   "execution_count": 122,
   "id": "a923ae7f",
   "metadata": {},
   "outputs": [
    {
     "data": {
      "text/plain": [
       "'theo'"
      ]
     },
     "execution_count": 122,
     "metadata": {},
     "output_type": "execute_result"
    }
   ],
   "source": [
    "'theo'"
   ]
  },
  {
   "cell_type": "code",
   "execution_count": 123,
   "id": "0d38cf97",
   "metadata": {},
   "outputs": [
    {
     "data": {
      "text/plain": [
       "str"
      ]
     },
     "execution_count": 123,
     "metadata": {},
     "output_type": "execute_result"
    }
   ],
   "source": [
    "type('theo')"
   ]
  },
  {
   "cell_type": "code",
   "execution_count": 125,
   "id": "757173f7",
   "metadata": {},
   "outputs": [
    {
     "data": {
      "text/plain": [
       "str"
      ]
     },
     "execution_count": 125,
     "metadata": {},
     "output_type": "execute_result"
    }
   ],
   "source": [
    "type(\"lisa\")"
   ]
  },
  {
   "cell_type": "code",
   "execution_count": 130,
   "id": "9b86b111",
   "metadata": {},
   "outputs": [],
   "source": [
    "name = 'ghana,techlab'"
   ]
  },
  {
   "cell_type": "code",
   "execution_count": 127,
   "id": "7ff1b988",
   "metadata": {},
   "outputs": [
    {
     "data": {
      "text/plain": [
       "'ghanatechlab'"
      ]
     },
     "execution_count": 127,
     "metadata": {},
     "output_type": "execute_result"
    }
   ],
   "source": [
    "name"
   ]
  },
  {
   "cell_type": "code",
   "execution_count": 128,
   "id": "a646fae9",
   "metadata": {},
   "outputs": [
    {
     "data": {
      "text/plain": [
       "'GHANATECHLAB'"
      ]
     },
     "execution_count": 128,
     "metadata": {},
     "output_type": "execute_result"
    }
   ],
   "source": [
    "name.upper()"
   ]
  },
  {
   "cell_type": "code",
   "execution_count": 129,
   "id": "7365d333",
   "metadata": {},
   "outputs": [
    {
     "data": {
      "text/plain": [
       "'Ghanatechlab'"
      ]
     },
     "execution_count": 129,
     "metadata": {},
     "output_type": "execute_result"
    }
   ],
   "source": [
    "name.capitalize()"
   ]
  },
  {
   "cell_type": "code",
   "execution_count": 131,
   "id": "c8a75861",
   "metadata": {},
   "outputs": [
    {
     "data": {
      "text/plain": [
       "['ghana', 'techlab']"
      ]
     },
     "execution_count": 131,
     "metadata": {},
     "output_type": "execute_result"
    }
   ],
   "source": [
    "name.split(',')"
   ]
  },
  {
   "cell_type": "code",
   "execution_count": 136,
   "id": "c84cccf1",
   "metadata": {},
   "outputs": [
    {
     "data": {
      "text/plain": [
       "'g'"
      ]
     },
     "execution_count": 136,
     "metadata": {},
     "output_type": "execute_result"
    }
   ],
   "source": [
    "name[0]"
   ]
  },
  {
   "cell_type": "code",
   "execution_count": 134,
   "id": "1153b144",
   "metadata": {},
   "outputs": [
    {
     "data": {
      "text/plain": [
       "'e'"
      ]
     },
     "execution_count": 134,
     "metadata": {},
     "output_type": "execute_result"
    }
   ],
   "source": [
    "name[7]"
   ]
  },
  {
   "cell_type": "code",
   "execution_count": 135,
   "id": "4a83da92",
   "metadata": {},
   "outputs": [
    {
     "data": {
      "text/plain": [
       "'hana'"
      ]
     },
     "execution_count": 135,
     "metadata": {},
     "output_type": "execute_result"
    }
   ],
   "source": [
    "name[1:5]"
   ]
  },
  {
   "cell_type": "code",
   "execution_count": 137,
   "id": "fab99764",
   "metadata": {},
   "outputs": [
    {
     "data": {
      "text/plain": [
       "'ghana,techlab'"
      ]
     },
     "execution_count": 137,
     "metadata": {},
     "output_type": "execute_result"
    }
   ],
   "source": [
    "name"
   ]
  },
  {
   "cell_type": "code",
   "execution_count": 138,
   "id": "270412d9",
   "metadata": {},
   "outputs": [],
   "source": [
    "greet = \"Hello World\""
   ]
  },
  {
   "cell_type": "code",
   "execution_count": 139,
   "id": "5df95077",
   "metadata": {},
   "outputs": [
    {
     "data": {
      "text/plain": [
       "'Hello World'"
      ]
     },
     "execution_count": 139,
     "metadata": {},
     "output_type": "execute_result"
    }
   ],
   "source": [
    "greet"
   ]
  },
  {
   "cell_type": "code",
   "execution_count": 140,
   "id": "e7fa5ede",
   "metadata": {},
   "outputs": [
    {
     "data": {
      "text/plain": [
       "'Hello world'"
      ]
     },
     "execution_count": 140,
     "metadata": {},
     "output_type": "execute_result"
    }
   ],
   "source": [
    "greet.capitalize()"
   ]
  },
  {
   "cell_type": "code",
   "execution_count": 141,
   "id": "96a39c77",
   "metadata": {},
   "outputs": [
    {
     "data": {
      "text/plain": [
       "'hello world'"
      ]
     },
     "execution_count": 141,
     "metadata": {},
     "output_type": "execute_result"
    }
   ],
   "source": [
    "greet.casefold()"
   ]
  },
  {
   "cell_type": "code",
   "execution_count": 142,
   "id": "61ba4d8e",
   "metadata": {},
   "outputs": [
    {
     "data": {
      "text/plain": [
       "'HELLO WORLD'"
      ]
     },
     "execution_count": 142,
     "metadata": {},
     "output_type": "execute_result"
    }
   ],
   "source": [
    "greet.upper()"
   ]
  },
  {
   "cell_type": "code",
   "execution_count": 144,
   "id": "e1ce0369",
   "metadata": {},
   "outputs": [
    {
     "data": {
      "text/plain": [
       "['Hello', 'World']"
      ]
     },
     "execution_count": 144,
     "metadata": {},
     "output_type": "execute_result"
    }
   ],
   "source": [
    "greet.split(' ')"
   ]
  },
  {
   "cell_type": "code",
   "execution_count": 145,
   "id": "64915bcf",
   "metadata": {},
   "outputs": [
    {
     "data": {
      "text/plain": [
       "'H'"
      ]
     },
     "execution_count": 145,
     "metadata": {},
     "output_type": "execute_result"
    }
   ],
   "source": [
    "greet[0]"
   ]
  },
  {
   "cell_type": "code",
   "execution_count": 146,
   "id": "35e7b9cf",
   "metadata": {},
   "outputs": [
    {
     "data": {
      "text/plain": [
       "'Hell'"
      ]
     },
     "execution_count": 146,
     "metadata": {},
     "output_type": "execute_result"
    }
   ],
   "source": [
    "greet[:4]"
   ]
  },
  {
   "cell_type": "code",
   "execution_count": 147,
   "id": "9976c9b0",
   "metadata": {},
   "outputs": [
    {
     "data": {
      "text/plain": [
       "'lo W'"
      ]
     },
     "execution_count": 147,
     "metadata": {},
     "output_type": "execute_result"
    }
   ],
   "source": [
    "greet[3:7]"
   ]
  },
  {
   "cell_type": "code",
   "execution_count": 148,
   "id": "a297e7c1",
   "metadata": {},
   "outputs": [
    {
     "data": {
      "text/plain": [
       "'Hello World'"
      ]
     },
     "execution_count": 148,
     "metadata": {},
     "output_type": "execute_result"
    }
   ],
   "source": [
    "greet"
   ]
  },
  {
   "cell_type": "code",
   "execution_count": 149,
   "id": "bd3715b4",
   "metadata": {},
   "outputs": [
    {
     "data": {
      "text/plain": [
       "True"
      ]
     },
     "execution_count": 149,
     "metadata": {},
     "output_type": "execute_result"
    }
   ],
   "source": [
    "'ello' in greet"
   ]
  },
  {
   "cell_type": "markdown",
   "id": "ab5c2d9a",
   "metadata": {},
   "source": [
    "## List"
   ]
  },
  {
   "cell_type": "code",
   "execution_count": 150,
   "id": "27c8c390",
   "metadata": {},
   "outputs": [],
   "source": [
    "names = ['theo','evans','david','mike','kofi','farouk']"
   ]
  },
  {
   "cell_type": "code",
   "execution_count": 151,
   "id": "c98dc537",
   "metadata": {},
   "outputs": [
    {
     "data": {
      "text/plain": [
       "list"
      ]
     },
     "execution_count": 151,
     "metadata": {},
     "output_type": "execute_result"
    }
   ],
   "source": [
    "type(names)"
   ]
  },
  {
   "cell_type": "code",
   "execution_count": 152,
   "id": "3fd1d560",
   "metadata": {},
   "outputs": [],
   "source": [
    "ages= [12,34,56,23,24,]"
   ]
  },
  {
   "cell_type": "code",
   "execution_count": 153,
   "id": "bc0781da",
   "metadata": {},
   "outputs": [],
   "source": [
    "good = [12,'theo',23.333,True,[1,3,4,56]]"
   ]
  },
  {
   "cell_type": "code",
   "execution_count": 154,
   "id": "1a0d8f4a",
   "metadata": {},
   "outputs": [
    {
     "data": {
      "text/plain": [
       "list"
      ]
     },
     "execution_count": 154,
     "metadata": {},
     "output_type": "execute_result"
    }
   ],
   "source": [
    "type(good)"
   ]
  },
  {
   "cell_type": "code",
   "execution_count": 156,
   "id": "86d2bc4c",
   "metadata": {},
   "outputs": [
    {
     "data": {
      "text/plain": [
       "'kofi'"
      ]
     },
     "execution_count": 156,
     "metadata": {},
     "output_type": "execute_result"
    }
   ],
   "source": [
    "names[4]"
   ]
  },
  {
   "cell_type": "code",
   "execution_count": 157,
   "id": "0ae02e92",
   "metadata": {},
   "outputs": [
    {
     "data": {
      "text/plain": [
       "['evans', 'david', 'mike']"
      ]
     },
     "execution_count": 157,
     "metadata": {},
     "output_type": "execute_result"
    }
   ],
   "source": [
    "names[1:4]"
   ]
  },
  {
   "cell_type": "code",
   "execution_count": 158,
   "id": "99643cce",
   "metadata": {},
   "outputs": [],
   "source": [
    "names[0] ='akua'"
   ]
  },
  {
   "cell_type": "code",
   "execution_count": 159,
   "id": "0cf88688",
   "metadata": {},
   "outputs": [
    {
     "data": {
      "text/plain": [
       "['akua', 'evans', 'david', 'mike', 'kofi', 'farouk']"
      ]
     },
     "execution_count": 159,
     "metadata": {},
     "output_type": "execute_result"
    }
   ],
   "source": [
    "names"
   ]
  },
  {
   "cell_type": "code",
   "execution_count": 160,
   "id": "948d4108",
   "metadata": {},
   "outputs": [
    {
     "data": {
      "text/plain": [
       "'farouk'"
      ]
     },
     "execution_count": 160,
     "metadata": {},
     "output_type": "execute_result"
    }
   ],
   "source": [
    "names[-1]"
   ]
  },
  {
   "cell_type": "code",
   "execution_count": 161,
   "id": "7d54a4c9",
   "metadata": {},
   "outputs": [
    {
     "data": {
      "text/plain": [
       "'farouk'"
      ]
     },
     "execution_count": 161,
     "metadata": {},
     "output_type": "execute_result"
    }
   ],
   "source": [
    "names[-1]"
   ]
  },
  {
   "cell_type": "code",
   "execution_count": 165,
   "id": "119ef006",
   "metadata": {},
   "outputs": [
    {
     "data": {
      "text/plain": [
       "['hello', 'world']"
      ]
     },
     "execution_count": 165,
     "metadata": {},
     "output_type": "execute_result"
    }
   ],
   "source": [
    "\"hello-world\".split('-')"
   ]
  },
  {
   "cell_type": "code",
   "execution_count": 166,
   "id": "34427d1a",
   "metadata": {},
   "outputs": [],
   "source": [
    "names.append('irene')"
   ]
  },
  {
   "cell_type": "code",
   "execution_count": 167,
   "id": "eebbc498",
   "metadata": {},
   "outputs": [
    {
     "data": {
      "text/plain": [
       "['akua', 'evans', 'david', 'mike', 'kofi', 'farouk', 'irene']"
      ]
     },
     "execution_count": 167,
     "metadata": {},
     "output_type": "execute_result"
    }
   ],
   "source": [
    "names"
   ]
  },
  {
   "cell_type": "code",
   "execution_count": 168,
   "id": "470d671a",
   "metadata": {},
   "outputs": [],
   "source": [
    "names.extend(['eric','theo'])"
   ]
  },
  {
   "cell_type": "code",
   "execution_count": 169,
   "id": "c0cdc492",
   "metadata": {},
   "outputs": [
    {
     "data": {
      "text/plain": [
       "['akua', 'evans', 'david', 'mike', 'kofi', 'farouk', 'irene', 'eric', 'theo']"
      ]
     },
     "execution_count": 169,
     "metadata": {},
     "output_type": "execute_result"
    }
   ],
   "source": [
    "names"
   ]
  },
  {
   "cell_type": "code",
   "execution_count": 170,
   "id": "9dc51c0d",
   "metadata": {},
   "outputs": [],
   "source": [
    "names.insert(2,'blinks')"
   ]
  },
  {
   "cell_type": "code",
   "execution_count": 171,
   "id": "1906cfa6",
   "metadata": {},
   "outputs": [
    {
     "data": {
      "text/plain": [
       "['akua',\n",
       " 'evans',\n",
       " 'blinks',\n",
       " 'david',\n",
       " 'mike',\n",
       " 'kofi',\n",
       " 'farouk',\n",
       " 'irene',\n",
       " 'eric',\n",
       " 'theo']"
      ]
     },
     "execution_count": 171,
     "metadata": {},
     "output_type": "execute_result"
    }
   ],
   "source": [
    "names"
   ]
  },
  {
   "cell_type": "code",
   "execution_count": 173,
   "id": "c9a9ee90",
   "metadata": {},
   "outputs": [],
   "source": [
    "?names.extend"
   ]
  },
  {
   "cell_type": "code",
   "execution_count": 174,
   "id": "9e7a731b",
   "metadata": {},
   "outputs": [
    {
     "data": {
      "text/plain": [
       "'theo'"
      ]
     },
     "execution_count": 174,
     "metadata": {},
     "output_type": "execute_result"
    }
   ],
   "source": [
    "names.pop()"
   ]
  },
  {
   "cell_type": "code",
   "execution_count": 175,
   "id": "260e211e",
   "metadata": {},
   "outputs": [
    {
     "data": {
      "text/plain": [
       "['akua', 'evans', 'blinks', 'david', 'mike', 'kofi', 'farouk', 'irene', 'eric']"
      ]
     },
     "execution_count": 175,
     "metadata": {},
     "output_type": "execute_result"
    }
   ],
   "source": [
    "names"
   ]
  },
  {
   "cell_type": "code",
   "execution_count": 176,
   "id": "25e872f0",
   "metadata": {},
   "outputs": [
    {
     "data": {
      "text/plain": [
       "'blinks'"
      ]
     },
     "execution_count": 176,
     "metadata": {},
     "output_type": "execute_result"
    }
   ],
   "source": [
    "names.pop(2)"
   ]
  },
  {
   "cell_type": "code",
   "execution_count": 177,
   "id": "bc9a3691",
   "metadata": {},
   "outputs": [
    {
     "data": {
      "text/plain": [
       "['akua', 'evans', 'david', 'mike', 'kofi', 'farouk', 'irene', 'eric']"
      ]
     },
     "execution_count": 177,
     "metadata": {},
     "output_type": "execute_result"
    }
   ],
   "source": [
    "names"
   ]
  },
  {
   "cell_type": "code",
   "execution_count": 178,
   "id": "70a038ef",
   "metadata": {},
   "outputs": [],
   "source": [
    "names.reverse()"
   ]
  },
  {
   "cell_type": "code",
   "execution_count": 179,
   "id": "dd171e57",
   "metadata": {},
   "outputs": [
    {
     "data": {
      "text/plain": [
       "['eric', 'irene', 'farouk', 'kofi', 'mike', 'david', 'evans', 'akua']"
      ]
     },
     "execution_count": 179,
     "metadata": {},
     "output_type": "execute_result"
    }
   ],
   "source": [
    "names"
   ]
  },
  {
   "cell_type": "code",
   "execution_count": 180,
   "id": "2a5340be",
   "metadata": {},
   "outputs": [],
   "source": [
    "names[3] = 'mastermind'"
   ]
  },
  {
   "cell_type": "code",
   "execution_count": 181,
   "id": "2103bcae",
   "metadata": {},
   "outputs": [
    {
     "data": {
      "text/plain": [
       "['eric', 'irene', 'farouk', 'mastermind', 'mike', 'david', 'evans', 'akua']"
      ]
     },
     "execution_count": 181,
     "metadata": {},
     "output_type": "execute_result"
    }
   ],
   "source": [
    "names"
   ]
  },
  {
   "cell_type": "code",
   "execution_count": 182,
   "id": "9cea399f",
   "metadata": {},
   "outputs": [],
   "source": [
    "names.remove('mike')"
   ]
  },
  {
   "cell_type": "code",
   "execution_count": 183,
   "id": "2cc55b2d",
   "metadata": {},
   "outputs": [
    {
     "data": {
      "text/plain": [
       "['eric', 'irene', 'farouk', 'mastermind', 'david', 'evans', 'akua']"
      ]
     },
     "execution_count": 183,
     "metadata": {},
     "output_type": "execute_result"
    }
   ],
   "source": [
    "names"
   ]
  },
  {
   "cell_type": "markdown",
   "id": "e45b1c8e",
   "metadata": {},
   "source": [
    "## Tuple"
   ]
  },
  {
   "cell_type": "code",
   "execution_count": 184,
   "id": "cf317eb1",
   "metadata": {},
   "outputs": [],
   "source": [
    "fruits = ('banana','mango','orange')"
   ]
  },
  {
   "cell_type": "code",
   "execution_count": 186,
   "id": "9fd01808",
   "metadata": {},
   "outputs": [
    {
     "data": {
      "text/plain": [
       "tuple"
      ]
     },
     "execution_count": 186,
     "metadata": {},
     "output_type": "execute_result"
    }
   ],
   "source": [
    "type(fruits)"
   ]
  },
  {
   "cell_type": "code",
   "execution_count": 187,
   "id": "bce4404a",
   "metadata": {},
   "outputs": [
    {
     "data": {
      "text/plain": [
       "1"
      ]
     },
     "execution_count": 187,
     "metadata": {},
     "output_type": "execute_result"
    }
   ],
   "source": [
    "fruits.count('banana')"
   ]
  },
  {
   "cell_type": "code",
   "execution_count": 188,
   "id": "d08fdd52",
   "metadata": {},
   "outputs": [
    {
     "data": {
      "text/plain": [
       "1"
      ]
     },
     "execution_count": 188,
     "metadata": {},
     "output_type": "execute_result"
    }
   ],
   "source": [
    "fruits.index('mango')"
   ]
  },
  {
   "cell_type": "code",
   "execution_count": 189,
   "id": "7eb69070",
   "metadata": {},
   "outputs": [
    {
     "ename": "AttributeError",
     "evalue": "'tuple' object has no attribute 'append'",
     "output_type": "error",
     "traceback": [
      "\u001b[1;31m---------------------------------------------------------------------------\u001b[0m",
      "\u001b[1;31mAttributeError\u001b[0m                            Traceback (most recent call last)",
      "\u001b[1;32m~\\AppData\\Local\\Temp\\ipykernel_21208\\1920157419.py\u001b[0m in \u001b[0;36m<module>\u001b[1;34m\u001b[0m\n\u001b[1;32m----> 1\u001b[1;33m \u001b[0mfruits\u001b[0m\u001b[1;33m.\u001b[0m\u001b[0mappend\u001b[0m\u001b[1;33m(\u001b[0m\u001b[1;34m'orange'\u001b[0m\u001b[1;33m)\u001b[0m\u001b[1;33m\u001b[0m\u001b[1;33m\u001b[0m\u001b[0m\n\u001b[0m",
      "\u001b[1;31mAttributeError\u001b[0m: 'tuple' object has no attribute 'append'"
     ]
    }
   ],
   "source": [
    "fruits.append('orange')"
   ]
  },
  {
   "cell_type": "code",
   "execution_count": 191,
   "id": "962302ce",
   "metadata": {},
   "outputs": [
    {
     "data": {
      "text/plain": [
       "'mango'"
      ]
     },
     "execution_count": 191,
     "metadata": {},
     "output_type": "execute_result"
    }
   ],
   "source": [
    "fruits[1]"
   ]
  },
  {
   "cell_type": "markdown",
   "id": "1c30518f",
   "metadata": {},
   "source": [
    "## Dictionary"
   ]
  },
  {
   "cell_type": "code",
   "execution_count": 192,
   "id": "bb0def8e",
   "metadata": {},
   "outputs": [],
   "source": [
    "student = {'name':'Blinks',\n",
    "           'sex':'Male',\n",
    "           'number':50}"
   ]
  },
  {
   "cell_type": "code",
   "execution_count": 193,
   "id": "6ebe97eb",
   "metadata": {},
   "outputs": [
    {
     "data": {
      "text/plain": [
       "{'name': 'Blinks', 'sex': 'Male', 'number': 50}"
      ]
     },
     "execution_count": 193,
     "metadata": {},
     "output_type": "execute_result"
    }
   ],
   "source": [
    "student"
   ]
  },
  {
   "cell_type": "code",
   "execution_count": 196,
   "id": "7434d466",
   "metadata": {},
   "outputs": [
    {
     "data": {
      "text/plain": [
       "dict_keys(['name', 'sex', 'number'])"
      ]
     },
     "execution_count": 196,
     "metadata": {},
     "output_type": "execute_result"
    }
   ],
   "source": [
    "student.keys()"
   ]
  },
  {
   "cell_type": "code",
   "execution_count": 197,
   "id": "8762e7b2",
   "metadata": {},
   "outputs": [
    {
     "data": {
      "text/plain": [
       "dict_values(['Blinks', 'Male', 50])"
      ]
     },
     "execution_count": 197,
     "metadata": {},
     "output_type": "execute_result"
    }
   ],
   "source": [
    "student.values()"
   ]
  },
  {
   "cell_type": "code",
   "execution_count": 198,
   "id": "a28a9b2b",
   "metadata": {},
   "outputs": [
    {
     "data": {
      "text/plain": [
       "dict_items([('name', 'Blinks'), ('sex', 'Male'), ('number', 50)])"
      ]
     },
     "execution_count": 198,
     "metadata": {},
     "output_type": "execute_result"
    }
   ],
   "source": [
    "student.items()"
   ]
  },
  {
   "cell_type": "code",
   "execution_count": 200,
   "id": "7abd0c99",
   "metadata": {},
   "outputs": [],
   "source": [
    "students = {'names':['david','blinks','irene','mike','kofi'],\n",
    "           'sex':['M','M','F','M','O'],\n",
    "           'number':[23,12,25,32,45]}"
   ]
  },
  {
   "cell_type": "code",
   "execution_count": 201,
   "id": "b3110dce",
   "metadata": {},
   "outputs": [
    {
     "data": {
      "text/plain": [
       "{'names': ['david', 'blinks', 'irene', 'mike', 'kofi'],\n",
       " 'sex': ['M', 'M', 'F', 'M', 'O'],\n",
       " 'number': [23, 12, 25, 32, 45]}"
      ]
     },
     "execution_count": 201,
     "metadata": {},
     "output_type": "execute_result"
    }
   ],
   "source": [
    "students"
   ]
  },
  {
   "cell_type": "code",
   "execution_count": 202,
   "id": "61baeadf",
   "metadata": {},
   "outputs": [],
   "source": [
    "name = ['GhanaTechLab']"
   ]
  },
  {
   "cell_type": "code",
   "execution_count": 208,
   "id": "c30e2ec4",
   "metadata": {},
   "outputs": [
    {
     "data": {
      "text/plain": [
       "'GhanaTechLab'"
      ]
     },
     "execution_count": 208,
     "metadata": {},
     "output_type": "execute_result"
    }
   ],
   "source": [
    "name[0]"
   ]
  },
  {
   "cell_type": "code",
   "execution_count": 210,
   "id": "f504989c",
   "metadata": {},
   "outputs": [
    {
     "data": {
      "text/plain": [
       "'hn'"
      ]
     },
     "execution_count": 210,
     "metadata": {},
     "output_type": "execute_result"
    }
   ],
   "source": [
    "name[0][1:5:2]"
   ]
  },
  {
   "cell_type": "code",
   "execution_count": 211,
   "id": "b49d3552",
   "metadata": {},
   "outputs": [
    {
     "data": {
      "text/plain": [
       "'hnTcLb'"
      ]
     },
     "execution_count": 211,
     "metadata": {},
     "output_type": "execute_result"
    }
   ],
   "source": [
    "name[0][1::2]"
   ]
  },
  {
   "cell_type": "code",
   "execution_count": 212,
   "id": "15f4d4c0",
   "metadata": {},
   "outputs": [
    {
     "data": {
      "text/plain": [
       "{'names': ['david', 'blinks', 'irene', 'mike', 'kofi'],\n",
       " 'sex': ['M', 'M', 'F', 'M', 'O'],\n",
       " 'number': [23, 12, 25, 32, 45]}"
      ]
     },
     "execution_count": 212,
     "metadata": {},
     "output_type": "execute_result"
    }
   ],
   "source": [
    "students"
   ]
  },
  {
   "cell_type": "code",
   "execution_count": 216,
   "id": "ccb5be81",
   "metadata": {},
   "outputs": [
    {
     "data": {
      "text/plain": [
       "'mike'"
      ]
     },
     "execution_count": 216,
     "metadata": {},
     "output_type": "execute_result"
    }
   ],
   "source": [
    "students['names'][3]"
   ]
  },
  {
   "cell_type": "code",
   "execution_count": 217,
   "id": "9da88bbe",
   "metadata": {},
   "outputs": [
    {
     "data": {
      "text/plain": [
       "'O'"
      ]
     },
     "execution_count": 217,
     "metadata": {},
     "output_type": "execute_result"
    }
   ],
   "source": [
    "students['sex'][-1]"
   ]
  },
  {
   "cell_type": "code",
   "execution_count": 218,
   "id": "db2787c1",
   "metadata": {},
   "outputs": [
    {
     "data": {
      "text/plain": [
       "[12, 25]"
      ]
     },
     "execution_count": 218,
     "metadata": {},
     "output_type": "execute_result"
    }
   ],
   "source": [
    "students['number'][1:3]"
   ]
  },
  {
   "cell_type": "code",
   "execution_count": 220,
   "id": "0390c9f1",
   "metadata": {},
   "outputs": [],
   "source": [
    "students['names'][-1] = 'daneil'"
   ]
  },
  {
   "cell_type": "code",
   "execution_count": 221,
   "id": "8d0b38bf",
   "metadata": {},
   "outputs": [
    {
     "data": {
      "text/plain": [
       "{'names': ['david', 'blinks', 'irene', 'mike', 'daneil'],\n",
       " 'sex': ['M', 'M', 'F', 'M', 'O'],\n",
       " 'number': [23, 12, 25, 32, 45]}"
      ]
     },
     "execution_count": 221,
     "metadata": {},
     "output_type": "execute_result"
    }
   ],
   "source": [
    "students"
   ]
  },
  {
   "cell_type": "code",
   "execution_count": null,
   "id": "27de3331",
   "metadata": {},
   "outputs": [],
   "source": []
  },
  {
   "cell_type": "markdown",
   "id": "52f5b95d",
   "metadata": {},
   "source": [
    "## Sets"
   ]
  },
  {
   "cell_type": "code",
   "execution_count": 222,
   "id": "a949fa88",
   "metadata": {},
   "outputs": [],
   "source": [
    "even = {2,4,6,8}"
   ]
  },
  {
   "cell_type": "code",
   "execution_count": 223,
   "id": "8922a987",
   "metadata": {},
   "outputs": [
    {
     "data": {
      "text/plain": [
       "set"
      ]
     },
     "execution_count": 223,
     "metadata": {},
     "output_type": "execute_result"
    }
   ],
   "source": [
    "type(even)"
   ]
  },
  {
   "cell_type": "code",
   "execution_count": 225,
   "id": "540ed658",
   "metadata": {},
   "outputs": [],
   "source": [
    "odd = {3,5,7,9}"
   ]
  },
  {
   "cell_type": "code",
   "execution_count": 226,
   "id": "f1962d16",
   "metadata": {},
   "outputs": [
    {
     "data": {
      "text/plain": [
       "{2, 3, 4, 5, 6, 7, 8, 9}"
      ]
     },
     "execution_count": 226,
     "metadata": {},
     "output_type": "execute_result"
    }
   ],
   "source": [
    "even.union(odd)"
   ]
  },
  {
   "cell_type": "code",
   "execution_count": null,
   "id": "d01f18f8",
   "metadata": {},
   "outputs": [],
   "source": []
  },
  {
   "cell_type": "code",
   "execution_count": null,
   "id": "dbdad4ff",
   "metadata": {},
   "outputs": [],
   "source": []
  },
  {
   "cell_type": "markdown",
   "id": "858b9876",
   "metadata": {},
   "source": [
    "## Conditional Statements"
   ]
  },
  {
   "cell_type": "code",
   "execution_count": 227,
   "id": "575c6064",
   "metadata": {},
   "outputs": [],
   "source": [
    "import keyword"
   ]
  },
  {
   "cell_type": "code",
   "execution_count": 229,
   "id": "bf3c1f2d",
   "metadata": {},
   "outputs": [
    {
     "data": {
      "text/plain": [
       "['False',\n",
       " 'None',\n",
       " 'True',\n",
       " '__peg_parser__',\n",
       " 'and',\n",
       " 'as',\n",
       " 'assert',\n",
       " 'async',\n",
       " 'await',\n",
       " 'break',\n",
       " 'class',\n",
       " 'continue',\n",
       " 'def',\n",
       " 'del',\n",
       " 'elif',\n",
       " 'else',\n",
       " 'except',\n",
       " 'finally',\n",
       " 'for',\n",
       " 'from',\n",
       " 'global',\n",
       " 'if',\n",
       " 'import',\n",
       " 'in',\n",
       " 'is',\n",
       " 'lambda',\n",
       " 'nonlocal',\n",
       " 'not',\n",
       " 'or',\n",
       " 'pass',\n",
       " 'raise',\n",
       " 'return',\n",
       " 'try',\n",
       " 'while',\n",
       " 'with',\n",
       " 'yield']"
      ]
     },
     "execution_count": 229,
     "metadata": {},
     "output_type": "execute_result"
    }
   ],
   "source": [
    "keyword.kwlist"
   ]
  },
  {
   "cell_type": "raw",
   "id": "c989352d",
   "metadata": {},
   "source": [
    "if condition:\n",
    "    statement to execute if true"
   ]
  },
  {
   "cell_type": "raw",
   "id": "f3954dab",
   "metadata": {},
   "source": []
  },
  {
   "cell_type": "code",
   "execution_count": 232,
   "id": "58d3f965",
   "metadata": {},
   "outputs": [
    {
     "data": {
      "text/plain": [
       "range(2, 20)"
      ]
     },
     "execution_count": 232,
     "metadata": {},
     "output_type": "execute_result"
    }
   ],
   "source": [
    "range(2,20)"
   ]
  },
  {
   "cell_type": "code",
   "execution_count": 241,
   "id": "9c422a3e",
   "metadata": {},
   "outputs": [
    {
     "data": {
      "text/plain": [
       "['eric', 'irene', 'farouk', 'mastermind', 'david', 'evans', 'akua']"
      ]
     },
     "execution_count": 241,
     "metadata": {},
     "output_type": "execute_result"
    }
   ],
   "source": [
    "names"
   ]
  },
  {
   "cell_type": "code",
   "execution_count": 242,
   "id": "317ae4e6",
   "metadata": {},
   "outputs": [
    {
     "data": {
      "text/plain": [
       "True"
      ]
     },
     "execution_count": 242,
     "metadata": {},
     "output_type": "execute_result"
    }
   ],
   "source": [
    "'david' in names"
   ]
  },
  {
   "cell_type": "code",
   "execution_count": 243,
   "id": "753b90cc",
   "metadata": {},
   "outputs": [
    {
     "name": "stdout",
     "output_type": "stream",
     "text": [
      "david is part of us\n"
     ]
    }
   ],
   "source": [
    "if 'david' in names:\n",
    "    print('david is part of us')"
   ]
  },
  {
   "cell_type": "code",
   "execution_count": 244,
   "id": "c9436655",
   "metadata": {},
   "outputs": [
    {
     "data": {
      "text/plain": [
       "False"
      ]
     },
     "execution_count": 244,
     "metadata": {},
     "output_type": "execute_result"
    }
   ],
   "source": [
    "'akugre' in names"
   ]
  },
  {
   "cell_type": "code",
   "execution_count": 245,
   "id": "1f1aef92",
   "metadata": {},
   "outputs": [],
   "source": [
    "if 'akugre' in names:\n",
    "    print('he is also with us')"
   ]
  },
  {
   "cell_type": "code",
   "execution_count": 238,
   "id": "0160a52c",
   "metadata": {},
   "outputs": [
    {
     "name": "stdout",
     "output_type": "stream",
     "text": [
      "this number is greater than 3 gooood\n"
     ]
    }
   ],
   "source": [
    "num = 4\n",
    "if num>3:\n",
    "    print('this number is greater than 3 gooood')"
   ]
  },
  {
   "cell_type": "raw",
   "id": "4e6f6fd0",
   "metadata": {},
   "source": [
    "if condition:\n",
    "    # statement if true\n",
    "    \n",
    "else:\n",
    "    #statement if false"
   ]
  },
  {
   "cell_type": "code",
   "execution_count": 246,
   "id": "fd1b3135",
   "metadata": {},
   "outputs": [
    {
     "name": "stdout",
     "output_type": "stream",
     "text": [
      "Naaaaaa this guy is not part of us\n"
     ]
    }
   ],
   "source": [
    "if 'akugre' in names:\n",
    "    print('he is here with us')\n",
    "    print('hahahahahaha')\n",
    "else:\n",
    "    print('Naaaaaa this guy is not part of us')"
   ]
  },
  {
   "cell_type": "code",
   "execution_count": 247,
   "id": "e3c7afdc",
   "metadata": {},
   "outputs": [
    {
     "name": "stdout",
     "output_type": "stream",
     "text": [
      "we are in the first if and the 10 is greater than 5\n",
      "haha we have entered the second if and it the number is an even number\n"
     ]
    }
   ],
   "source": [
    "## Nested if statement\n",
    "\n",
    "num = 10\n",
    "\n",
    "if num>5:\n",
    "    print(f'we are in the first if and the {num} is greater than 5')\n",
    "    if num%2==0:\n",
    "        print('haha we have entered the second if and it the number is an even number')"
   ]
  },
  {
   "cell_type": "code",
   "execution_count": 248,
   "id": "91f200fd",
   "metadata": {},
   "outputs": [
    {
     "name": "stdout",
     "output_type": "stream",
     "text": [
      "enter any number5\n"
     ]
    },
    {
     "data": {
      "text/plain": [
       "'5'"
      ]
     },
     "execution_count": 248,
     "metadata": {},
     "output_type": "execute_result"
    }
   ],
   "source": [
    "input('enter any number')"
   ]
  },
  {
   "cell_type": "code",
   "execution_count": 249,
   "id": "817c4b4c",
   "metadata": {},
   "outputs": [
    {
     "data": {
      "text/plain": [
       "7"
      ]
     },
     "execution_count": 249,
     "metadata": {},
     "output_type": "execute_result"
    }
   ],
   "source": [
    "int('7')"
   ]
  },
  {
   "cell_type": "code",
   "execution_count": 253,
   "id": "21a094b4",
   "metadata": {},
   "outputs": [
    {
     "name": "stdout",
     "output_type": "stream",
     "text": [
      "enter your number7\n",
      "hey your number is a small one\n"
     ]
    }
   ],
   "source": [
    "num= int(input('enter your number'))\n",
    "if num > 10:\n",
    "    print('you are in the first if')\n",
    "    if num%2==0:\n",
    "        print('your number is an even number')\n",
    "    else:\n",
    "        print('your number is Odd')\n",
    "else:\n",
    "    print('hey your number is a small one')"
   ]
  },
  {
   "cell_type": "code",
   "execution_count": 296,
   "id": "359669a1",
   "metadata": {},
   "outputs": [
    {
     "name": "stdout",
     "output_type": "stream",
     "text": [
      "your mark here: 80\n",
      "you had a B\n"
     ]
    }
   ],
   "source": [
    "mark = int(input('your mark here: '))\n",
    "\n",
    "if mark>80:\n",
    "    print('you had an A')\n",
    "elif mark >70:\n",
    "    print('you had a B')\n",
    "elif mark>60:\n",
    "    print('you had C')\n",
    "else:\n",
    "    print('hahahahaha my friend i dont want to mention your grade')"
   ]
  },
  {
   "cell_type": "code",
   "execution_count": 297,
   "id": "a080ee68",
   "metadata": {},
   "outputs": [],
   "source": [
    "def grader():\n",
    "    mark = int(input('your mark here: '))\n",
    "\n",
    "    if mark>80:\n",
    "        print('you had an A')\n",
    "    elif mark >70:\n",
    "        print('you had a B')\n",
    "    elif mark>60:\n",
    "        print('you had C')\n",
    "    else:\n",
    "        print('hahahahaha my friend i dont want to mention your grade')"
   ]
  },
  {
   "cell_type": "code",
   "execution_count": 299,
   "id": "5fc938e0",
   "metadata": {},
   "outputs": [
    {
     "name": "stdout",
     "output_type": "stream",
     "text": [
      "your mark here: 98\n",
      "you had an A\n"
     ]
    }
   ],
   "source": [
    "grader()"
   ]
  },
  {
   "cell_type": "code",
   "execution_count": 300,
   "id": "628de3aa",
   "metadata": {},
   "outputs": [
    {
     "data": {
      "text/plain": [
       "80"
      ]
     },
     "execution_count": 300,
     "metadata": {},
     "output_type": "execute_result"
    }
   ],
   "source": [
    "mark"
   ]
  },
  {
   "cell_type": "code",
   "execution_count": null,
   "id": "6a69532c",
   "metadata": {},
   "outputs": [],
   "source": []
  },
  {
   "cell_type": "markdown",
   "id": "a40c342e",
   "metadata": {},
   "source": [
    "## Loops\n",
    "### for and while loop"
   ]
  },
  {
   "cell_type": "raw",
   "id": "8d9ff046",
   "metadata": {},
   "source": [
    "Syntax of for loop\n",
    "\n",
    "\n",
    "for i in iterable:\n",
    "    # statement"
   ]
  },
  {
   "cell_type": "code",
   "execution_count": 255,
   "id": "d7e1c2a7",
   "metadata": {},
   "outputs": [
    {
     "name": "stdout",
     "output_type": "stream",
     "text": [
      "Bright 0\n",
      "Bright 1\n",
      "Bright 2\n",
      "Bright 3\n",
      "Bright 4\n",
      "Bright 5\n",
      "Bright 6\n",
      "Bright 7\n",
      "Bright 8\n",
      "Bright 9\n"
     ]
    }
   ],
   "source": [
    "for i in range(10):\n",
    "    print('Bright',i)"
   ]
  },
  {
   "cell_type": "code",
   "execution_count": 256,
   "id": "5a92af8c",
   "metadata": {},
   "outputs": [
    {
     "name": "stdout",
     "output_type": "stream",
     "text": [
      "eric is part of our class\n",
      "irene is part of our class\n",
      "farouk is part of our class\n",
      "mastermind is part of our class\n",
      "david is part of our class\n",
      "evans is part of our class\n",
      "akua is part of our class\n"
     ]
    }
   ],
   "source": [
    "for name in names:\n",
    "    print(name, 'is part of our class')"
   ]
  },
  {
   "cell_type": "code",
   "execution_count": 261,
   "id": "5b506ca5",
   "metadata": {},
   "outputs": [],
   "source": [
    "even = []\n",
    "odd = []\n",
    "\n",
    "for num in range(1,21):\n",
    "    if num%2==0:\n",
    "        even.append(num)\n",
    "    else:\n",
    "        odd.append(num)"
   ]
  },
  {
   "cell_type": "code",
   "execution_count": 262,
   "id": "703e19b7",
   "metadata": {},
   "outputs": [
    {
     "data": {
      "text/plain": [
       "[2, 4, 6, 8, 10, 12, 14, 16, 18, 20]"
      ]
     },
     "execution_count": 262,
     "metadata": {},
     "output_type": "execute_result"
    }
   ],
   "source": [
    "even"
   ]
  },
  {
   "cell_type": "code",
   "execution_count": 263,
   "id": "6b41942b",
   "metadata": {},
   "outputs": [
    {
     "data": {
      "text/plain": [
       "[1, 3, 5, 7, 9, 11, 13, 15, 17, 19]"
      ]
     },
     "execution_count": 263,
     "metadata": {},
     "output_type": "execute_result"
    }
   ],
   "source": [
    "odd"
   ]
  },
  {
   "cell_type": "code",
   "execution_count": null,
   "id": "c31b5f58",
   "metadata": {},
   "outputs": [],
   "source": []
  },
  {
   "cell_type": "code",
   "execution_count": null,
   "id": "b35c6953",
   "metadata": {},
   "outputs": [],
   "source": []
  },
  {
   "cell_type": "code",
   "execution_count": 258,
   "id": "ab197f53",
   "metadata": {},
   "outputs": [
    {
     "name": "stdout",
     "output_type": "stream",
     "text": [
      "b\n",
      "r\n",
      "i\n",
      "g\n",
      "h\n",
      "t\n"
     ]
    }
   ],
   "source": [
    "for i in \"bright\":\n",
    "    print(i)"
   ]
  },
  {
   "cell_type": "code",
   "execution_count": 264,
   "id": "dd2883e0",
   "metadata": {},
   "outputs": [
    {
     "name": "stdout",
     "output_type": "stream",
     "text": [
      "theo\n",
      "bright\n",
      "david\n",
      "jay\n"
     ]
    }
   ],
   "source": [
    "for name in ['theo','bright','david','jay']:\n",
    "    print(name)"
   ]
  },
  {
   "cell_type": "markdown",
   "id": "32742fc1",
   "metadata": {},
   "source": [
    "## While"
   ]
  },
  {
   "cell_type": "code",
   "execution_count": 267,
   "id": "ed0d41a2",
   "metadata": {},
   "outputs": [
    {
     "name": "stdout",
     "output_type": "stream",
     "text": [
      "1\n",
      "2\n",
      "3\n",
      "4\n"
     ]
    }
   ],
   "source": [
    "n=1\n",
    "\n",
    "while n <5:\n",
    "    print(n)\n",
    "    \n",
    "    n+=1"
   ]
  },
  {
   "cell_type": "code",
   "execution_count": 272,
   "id": "57d0afce",
   "metadata": {},
   "outputs": [
    {
     "name": "stdout",
     "output_type": "stream",
     "text": [
      "enter your password pleaseewew\n",
      "try agin\n",
      "enter your password pleaseeric21\n",
      "Access Granted\n"
     ]
    }
   ],
   "source": [
    "password = 'eric21'\n",
    "n=3\n",
    "while n>0:\n",
    "    paaas = input('enter your password please')\n",
    "\n",
    "    if paaas == password:\n",
    "        print('Access Granted')\n",
    "        break\n",
    "    else:\n",
    "        print('try agin')\n",
    "    n=n-1\n",
    "    "
   ]
  },
  {
   "cell_type": "code",
   "execution_count": null,
   "id": "4ccd7d83",
   "metadata": {},
   "outputs": [],
   "source": []
  },
  {
   "cell_type": "markdown",
   "id": "d9189de1",
   "metadata": {},
   "source": [
    "## Functions"
   ]
  },
  {
   "cell_type": "raw",
   "id": "af710dc5",
   "metadata": {},
   "source": [
    "def function_name(parameters):\n",
    "    # body\n",
    "    ##\n",
    "    \n",
    "    return result"
   ]
  },
  {
   "cell_type": "code",
   "execution_count": 275,
   "id": "a83b4227",
   "metadata": {},
   "outputs": [],
   "source": [
    "def greetings(name):\n",
    "    return name +' '+ 'good afternoon'"
   ]
  },
  {
   "cell_type": "code",
   "execution_count": 276,
   "id": "255fb2e5",
   "metadata": {},
   "outputs": [
    {
     "data": {
      "text/plain": [
       "'theo good afternoon'"
      ]
     },
     "execution_count": 276,
     "metadata": {},
     "output_type": "execute_result"
    }
   ],
   "source": [
    "greetings('theo')"
   ]
  },
  {
   "cell_type": "code",
   "execution_count": 277,
   "id": "6fc9a406",
   "metadata": {},
   "outputs": [],
   "source": [
    "def area_of_circle():\n",
    "    radius= 3\n",
    "    pii = 3.1423\n",
    "    return radius*pii**2"
   ]
  },
  {
   "cell_type": "code",
   "execution_count": 278,
   "id": "9c70e2e8",
   "metadata": {},
   "outputs": [
    {
     "data": {
      "text/plain": [
       "29.62214787"
      ]
     },
     "execution_count": 278,
     "metadata": {},
     "output_type": "execute_result"
    }
   ],
   "source": [
    "area_of_circle()"
   ]
  },
  {
   "cell_type": "code",
   "execution_count": 280,
   "id": "a8faa9e0",
   "metadata": {},
   "outputs": [],
   "source": [
    "def area_of_triangle(base,height):\n",
    "    area= 0.5*base*height\n",
    "    return area"
   ]
  },
  {
   "cell_type": "code",
   "execution_count": 281,
   "id": "b91a8f9d",
   "metadata": {},
   "outputs": [
    {
     "ename": "TypeError",
     "evalue": "area_of_triangle() missing 2 required positional arguments: 'base' and 'height'",
     "output_type": "error",
     "traceback": [
      "\u001b[1;31m---------------------------------------------------------------------------\u001b[0m",
      "\u001b[1;31mTypeError\u001b[0m                                 Traceback (most recent call last)",
      "\u001b[1;32m~\\AppData\\Local\\Temp\\ipykernel_21208\\2087294498.py\u001b[0m in \u001b[0;36m<module>\u001b[1;34m\u001b[0m\n\u001b[1;32m----> 1\u001b[1;33m \u001b[0marea_of_triangle\u001b[0m\u001b[1;33m(\u001b[0m\u001b[1;33m)\u001b[0m\u001b[1;33m\u001b[0m\u001b[1;33m\u001b[0m\u001b[0m\n\u001b[0m",
      "\u001b[1;31mTypeError\u001b[0m: area_of_triangle() missing 2 required positional arguments: 'base' and 'height'"
     ]
    }
   ],
   "source": [
    "area_of_triangle()"
   ]
  },
  {
   "cell_type": "code",
   "execution_count": 282,
   "id": "8ae92c35",
   "metadata": {},
   "outputs": [
    {
     "ename": "TypeError",
     "evalue": "area_of_triangle() missing 1 required positional argument: 'height'",
     "output_type": "error",
     "traceback": [
      "\u001b[1;31m---------------------------------------------------------------------------\u001b[0m",
      "\u001b[1;31mTypeError\u001b[0m                                 Traceback (most recent call last)",
      "\u001b[1;32m~\\AppData\\Local\\Temp\\ipykernel_21208\\3209253380.py\u001b[0m in \u001b[0;36m<module>\u001b[1;34m\u001b[0m\n\u001b[1;32m----> 1\u001b[1;33m \u001b[0marea_of_triangle\u001b[0m\u001b[1;33m(\u001b[0m\u001b[1;36m4\u001b[0m\u001b[1;33m)\u001b[0m\u001b[1;33m\u001b[0m\u001b[1;33m\u001b[0m\u001b[0m\n\u001b[0m",
      "\u001b[1;31mTypeError\u001b[0m: area_of_triangle() missing 1 required positional argument: 'height'"
     ]
    }
   ],
   "source": [
    "area_of_triangle(4)"
   ]
  },
  {
   "cell_type": "code",
   "execution_count": 283,
   "id": "cc1fdd5a",
   "metadata": {},
   "outputs": [
    {
     "data": {
      "text/plain": [
       "20.0"
      ]
     },
     "execution_count": 283,
     "metadata": {},
     "output_type": "execute_result"
    }
   ],
   "source": [
    "area_of_triangle(5,8)"
   ]
  },
  {
   "cell_type": "code",
   "execution_count": 285,
   "id": "579afa3c",
   "metadata": {},
   "outputs": [],
   "source": [
    "def area_circle(radius,pii=3.142):\n",
    "    area=pii*radius**2\n",
    "    return area"
   ]
  },
  {
   "cell_type": "code",
   "execution_count": 287,
   "id": "1cc472b9",
   "metadata": {},
   "outputs": [
    {
     "data": {
      "text/plain": [
       "28.278"
      ]
     },
     "execution_count": 287,
     "metadata": {},
     "output_type": "execute_result"
    }
   ],
   "source": [
    "area_circle(3)"
   ]
  },
  {
   "cell_type": "code",
   "execution_count": 288,
   "id": "bd0035f5",
   "metadata": {},
   "outputs": [
    {
     "data": {
      "text/plain": [
       "27.900000000000002"
      ]
     },
     "execution_count": 288,
     "metadata": {},
     "output_type": "execute_result"
    }
   ],
   "source": [
    "area_circle(3,3.1)"
   ]
  },
  {
   "cell_type": "code",
   "execution_count": 289,
   "id": "df81f643",
   "metadata": {},
   "outputs": [
    {
     "data": {
      "text/plain": [
       "['eric', 'irene', 'farouk', 'mastermind', 'david', 'evans', 'akua']"
      ]
     },
     "execution_count": 289,
     "metadata": {},
     "output_type": "execute_result"
    }
   ],
   "source": [
    "names"
   ]
  },
  {
   "cell_type": "code",
   "execution_count": 290,
   "id": "8b3cbc8a",
   "metadata": {},
   "outputs": [],
   "source": [
    "def area_circle(radius,pii=3.142):\n",
    "    area=pii*radius**2\n",
    "    return area"
   ]
  },
  {
   "cell_type": "code",
   "execution_count": 291,
   "id": "9ef43840",
   "metadata": {},
   "outputs": [
    {
     "ename": "NameError",
     "evalue": "name 'area' is not defined",
     "output_type": "error",
     "traceback": [
      "\u001b[1;31m---------------------------------------------------------------------------\u001b[0m",
      "\u001b[1;31mNameError\u001b[0m                                 Traceback (most recent call last)",
      "\u001b[1;32m~\\AppData\\Local\\Temp\\ipykernel_21208\\1663481929.py\u001b[0m in \u001b[0;36m<module>\u001b[1;34m\u001b[0m\n\u001b[1;32m----> 1\u001b[1;33m \u001b[0marea\u001b[0m\u001b[1;33m\u001b[0m\u001b[1;33m\u001b[0m\u001b[0m\n\u001b[0m",
      "\u001b[1;31mNameError\u001b[0m: name 'area' is not defined"
     ]
    }
   ],
   "source": [
    "area"
   ]
  },
  {
   "cell_type": "code",
   "execution_count": 292,
   "id": "80526cc5",
   "metadata": {},
   "outputs": [],
   "source": [
    "value = 22\n",
    "def area_circle(radius,pii=3.142):\n",
    "    area=pii*radius**2\n",
    "    print(value)\n",
    "    return area"
   ]
  },
  {
   "cell_type": "code",
   "execution_count": 293,
   "id": "1bc08d5d",
   "metadata": {},
   "outputs": [
    {
     "name": "stdout",
     "output_type": "stream",
     "text": [
      "22\n"
     ]
    },
    {
     "data": {
      "text/plain": [
       "12.568"
      ]
     },
     "execution_count": 293,
     "metadata": {},
     "output_type": "execute_result"
    }
   ],
   "source": [
    "area_circle(2)"
   ]
  },
  {
   "cell_type": "code",
   "execution_count": 295,
   "id": "f562c17f",
   "metadata": {},
   "outputs": [
    {
     "name": "stdout",
     "output_type": "stream",
     "text": [
      "22\n"
     ]
    },
    {
     "data": {
      "text/plain": [
       "50.272"
      ]
     },
     "execution_count": 295,
     "metadata": {},
     "output_type": "execute_result"
    }
   ],
   "source": [
    "area_circle(4)"
   ]
  },
  {
   "cell_type": "code",
   "execution_count": null,
   "id": "ee308df6",
   "metadata": {},
   "outputs": [],
   "source": []
  }
 ],
 "metadata": {
  "kernelspec": {
   "display_name": "Python 3 (ipykernel)",
   "language": "python",
   "name": "python3"
  },
  "language_info": {
   "codemirror_mode": {
    "name": "ipython",
    "version": 3
   },
   "file_extension": ".py",
   "mimetype": "text/x-python",
   "name": "python",
   "nbconvert_exporter": "python",
   "pygments_lexer": "ipython3",
   "version": "3.9.12"
  }
 },
 "nbformat": 4,
 "nbformat_minor": 5
}
